{
 "cells": [
  {
   "cell_type": "code",
   "execution_count": 1,
   "metadata": {},
   "outputs": [],
   "source": [
    "import numpy as np\n",
    "import pandas as pd\n",
    "from sklearn.svm import SVC\n",
    "from sklearn.tree import DecisionTreeClassifier\n",
    "from sklearn.model_selection import train_test_split\n",
    "from sklearn.metrics import accuracy_score\n"
   ]
  },
  {
   "cell_type": "markdown",
   "metadata": {},
   "source": [
    "#  chargement et visualisation :"
   ]
  },
  {
   "cell_type": "code",
   "execution_count": 2,
   "metadata": {},
   "outputs": [
    {
     "data": {
      "text/html": [
       "<div>\n",
       "<style scoped>\n",
       "    .dataframe tbody tr th:only-of-type {\n",
       "        vertical-align: middle;\n",
       "    }\n",
       "\n",
       "    .dataframe tbody tr th {\n",
       "        vertical-align: top;\n",
       "    }\n",
       "\n",
       "    .dataframe thead th {\n",
       "        text-align: right;\n",
       "    }\n",
       "</style>\n",
       "<table border=\"1\" class=\"dataframe\">\n",
       "  <thead>\n",
       "    <tr style=\"text-align: right;\">\n",
       "      <th></th>\n",
       "      <th>categorie</th>\n",
       "      <th>mois</th>\n",
       "      <th>v_reg</th>\n",
       "      <th>c_reg</th>\n",
       "      <th>ca</th>\n",
       "    </tr>\n",
       "  </thead>\n",
       "  <tbody>\n",
       "    <tr>\n",
       "      <td>0</td>\n",
       "      <td>agro_industry_and_commerce</td>\n",
       "      <td>Aout</td>\n",
       "      <td>MG</td>\n",
       "      <td>BA</td>\n",
       "      <td>1134.439941</td>\n",
       "    </tr>\n",
       "    <tr>\n",
       "      <td>1</td>\n",
       "      <td>agro_industry_and_commerce</td>\n",
       "      <td>Aout</td>\n",
       "      <td>MG</td>\n",
       "      <td>MG</td>\n",
       "      <td>164.289993</td>\n",
       "    </tr>\n",
       "    <tr>\n",
       "      <td>2</td>\n",
       "      <td>agro_industry_and_commerce</td>\n",
       "      <td>Aout</td>\n",
       "      <td>PR</td>\n",
       "      <td>SP</td>\n",
       "      <td>1124.659988</td>\n",
       "    </tr>\n",
       "  </tbody>\n",
       "</table>\n",
       "</div>"
      ],
      "text/plain": [
       "                    categorie  mois v_reg c_reg           ca\n",
       "0  agro_industry_and_commerce  Aout    MG    BA  1134.439941\n",
       "1  agro_industry_and_commerce  Aout    MG    MG   164.289993\n",
       "2  agro_industry_and_commerce  Aout    PR    SP  1124.659988"
      ]
     },
     "execution_count": 2,
     "metadata": {},
     "output_type": "execute_result"
    }
   ],
   "source": [
    "data = pd.read_csv('dataset.csv')\n",
    "data.head(3)"
   ]
  },
  {
   "cell_type": "code",
   "execution_count": 3,
   "metadata": {},
   "outputs": [
    {
     "data": {
      "text/html": [
       "<div>\n",
       "<style scoped>\n",
       "    .dataframe tbody tr th:only-of-type {\n",
       "        vertical-align: middle;\n",
       "    }\n",
       "\n",
       "    .dataframe tbody tr th {\n",
       "        vertical-align: top;\n",
       "    }\n",
       "\n",
       "    .dataframe thead th {\n",
       "        text-align: right;\n",
       "    }\n",
       "</style>\n",
       "<table border=\"1\" class=\"dataframe\">\n",
       "  <thead>\n",
       "    <tr style=\"text-align: right;\">\n",
       "      <th></th>\n",
       "      <th>categorie</th>\n",
       "      <th>mois</th>\n",
       "      <th>v_reg</th>\n",
       "      <th>c_reg</th>\n",
       "      <th>ca</th>\n",
       "      <th>classe</th>\n",
       "    </tr>\n",
       "  </thead>\n",
       "  <tbody>\n",
       "    <tr>\n",
       "      <td>0</td>\n",
       "      <td>agro_industry_and_commerce</td>\n",
       "      <td>Aout</td>\n",
       "      <td>MG</td>\n",
       "      <td>BA</td>\n",
       "      <td>1134.439941</td>\n",
       "      <td>1</td>\n",
       "    </tr>\n",
       "    <tr>\n",
       "      <td>1</td>\n",
       "      <td>agro_industry_and_commerce</td>\n",
       "      <td>Aout</td>\n",
       "      <td>MG</td>\n",
       "      <td>MG</td>\n",
       "      <td>164.289993</td>\n",
       "      <td>0</td>\n",
       "    </tr>\n",
       "    <tr>\n",
       "      <td>2</td>\n",
       "      <td>agro_industry_and_commerce</td>\n",
       "      <td>Aout</td>\n",
       "      <td>PR</td>\n",
       "      <td>SP</td>\n",
       "      <td>1124.659988</td>\n",
       "      <td>1</td>\n",
       "    </tr>\n",
       "    <tr>\n",
       "      <td>3</td>\n",
       "      <td>agro_industry_and_commerce</td>\n",
       "      <td>Aout</td>\n",
       "      <td>SC</td>\n",
       "      <td>PR</td>\n",
       "      <td>47.620003</td>\n",
       "      <td>0</td>\n",
       "    </tr>\n",
       "  </tbody>\n",
       "</table>\n",
       "</div>"
      ],
      "text/plain": [
       "                    categorie  mois v_reg c_reg           ca  classe\n",
       "0  agro_industry_and_commerce  Aout    MG    BA  1134.439941       1\n",
       "1  agro_industry_and_commerce  Aout    MG    MG   164.289993       0\n",
       "2  agro_industry_and_commerce  Aout    PR    SP  1124.659988       1\n",
       "3  agro_industry_and_commerce  Aout    SC    PR    47.620003       0"
      ]
     },
     "execution_count": 3,
     "metadata": {},
     "output_type": "execute_result"
    }
   ],
   "source": [
    "## --Creation de classes \n",
    "data['classe'] = (data['ca'] > np.mean(abs(data['ca'] - np.mean(data['ca'])))).astype(int)\n",
    "data.head(4)"
   ]
  },
  {
   "cell_type": "code",
   "execution_count": 4,
   "metadata": {},
   "outputs": [],
   "source": [
    "## -- Labeel encoder \n",
    "categories = dict()\n",
    "mois = dict()\n",
    "v_reg = dict()\n",
    "c_reg = dict()\n",
    "for i in range(len(np.unique(data['categorie']))): categories[np.unique(data['categorie'])[i]] = i\n",
    "for i in range(len(np.unique(data['mois']))): mois[np.unique(data['mois'])[i]] = i\n",
    "for i in range(len(np.unique(data['v_reg']))): v_reg[np.unique(data['v_reg'])[i]] = i\n",
    "for i in range(len(np.unique(data['c_reg']))): c_reg[np.unique(data['c_reg'])[i]] = i"
   ]
  },
  {
   "cell_type": "code",
   "execution_count": 5,
   "metadata": {},
   "outputs": [],
   "source": [
    "data['categorie'] = np.array([categories[c] for c in data['categorie']])\n",
    "data['mois'] = np.array([mois[c] for c in data['mois']])\n",
    "data['v_reg'] = np.array([v_reg[c] for c in data['v_reg']])\n",
    "data['c_reg'] = np.array([c_reg[c] for c in data['c_reg']])"
   ]
  },
  {
   "cell_type": "code",
   "execution_count": 16,
   "metadata": {},
   "outputs": [
    {
     "data": {
      "text/html": [
       "<div>\n",
       "<style scoped>\n",
       "    .dataframe tbody tr th:only-of-type {\n",
       "        vertical-align: middle;\n",
       "    }\n",
       "\n",
       "    .dataframe tbody tr th {\n",
       "        vertical-align: top;\n",
       "    }\n",
       "\n",
       "    .dataframe thead th {\n",
       "        text-align: right;\n",
       "    }\n",
       "</style>\n",
       "<table border=\"1\" class=\"dataframe\">\n",
       "  <thead>\n",
       "    <tr style=\"text-align: right;\">\n",
       "      <th></th>\n",
       "      <th>categorie</th>\n",
       "      <th>mois</th>\n",
       "      <th>v_reg</th>\n",
       "      <th>c_reg</th>\n",
       "      <th>ca</th>\n",
       "      <th>classe</th>\n",
       "    </tr>\n",
       "  </thead>\n",
       "  <tbody>\n",
       "    <tr>\n",
       "      <td>0</td>\n",
       "      <td>0</td>\n",
       "      <td>0</td>\n",
       "      <td>8</td>\n",
       "      <td>4</td>\n",
       "      <td>1134.439941</td>\n",
       "      <td>1</td>\n",
       "    </tr>\n",
       "    <tr>\n",
       "      <td>1</td>\n",
       "      <td>0</td>\n",
       "      <td>0</td>\n",
       "      <td>8</td>\n",
       "      <td>10</td>\n",
       "      <td>164.289993</td>\n",
       "      <td>0</td>\n",
       "    </tr>\n",
       "    <tr>\n",
       "      <td>2</td>\n",
       "      <td>0</td>\n",
       "      <td>0</td>\n",
       "      <td>15</td>\n",
       "      <td>25</td>\n",
       "      <td>1124.659988</td>\n",
       "      <td>1</td>\n",
       "    </tr>\n",
       "    <tr>\n",
       "      <td>3</td>\n",
       "      <td>0</td>\n",
       "      <td>0</td>\n",
       "      <td>20</td>\n",
       "      <td>17</td>\n",
       "      <td>47.620003</td>\n",
       "      <td>0</td>\n",
       "    </tr>\n",
       "    <tr>\n",
       "      <td>4</td>\n",
       "      <td>0</td>\n",
       "      <td>0</td>\n",
       "      <td>22</td>\n",
       "      <td>10</td>\n",
       "      <td>1978.180054</td>\n",
       "      <td>1</td>\n",
       "    </tr>\n",
       "    <tr>\n",
       "      <td>...</td>\n",
       "      <td>...</td>\n",
       "      <td>...</td>\n",
       "      <td>...</td>\n",
       "      <td>...</td>\n",
       "      <td>...</td>\n",
       "      <td>...</td>\n",
       "    </tr>\n",
       "    <tr>\n",
       "      <td>18109</td>\n",
       "      <td>70</td>\n",
       "      <td>11</td>\n",
       "      <td>22</td>\n",
       "      <td>20</td>\n",
       "      <td>77.190002</td>\n",
       "      <td>0</td>\n",
       "    </tr>\n",
       "    <tr>\n",
       "      <td>18110</td>\n",
       "      <td>70</td>\n",
       "      <td>11</td>\n",
       "      <td>22</td>\n",
       "      <td>22</td>\n",
       "      <td>1909.149948</td>\n",
       "      <td>1</td>\n",
       "    </tr>\n",
       "    <tr>\n",
       "      <td>18111</td>\n",
       "      <td>70</td>\n",
       "      <td>11</td>\n",
       "      <td>22</td>\n",
       "      <td>23</td>\n",
       "      <td>1505.069992</td>\n",
       "      <td>1</td>\n",
       "    </tr>\n",
       "    <tr>\n",
       "      <td>18112</td>\n",
       "      <td>70</td>\n",
       "      <td>11</td>\n",
       "      <td>22</td>\n",
       "      <td>25</td>\n",
       "      <td>14903.309761</td>\n",
       "      <td>1</td>\n",
       "    </tr>\n",
       "    <tr>\n",
       "      <td>18113</td>\n",
       "      <td>70</td>\n",
       "      <td>11</td>\n",
       "      <td>22</td>\n",
       "      <td>26</td>\n",
       "      <td>417.229996</td>\n",
       "      <td>0</td>\n",
       "    </tr>\n",
       "  </tbody>\n",
       "</table>\n",
       "<p>18114 rows × 6 columns</p>\n",
       "</div>"
      ],
      "text/plain": [
       "       categorie  mois  v_reg  c_reg            ca  classe\n",
       "0              0     0      8      4   1134.439941       1\n",
       "1              0     0      8     10    164.289993       0\n",
       "2              0     0     15     25   1124.659988       1\n",
       "3              0     0     20     17     47.620003       0\n",
       "4              0     0     22     10   1978.180054       1\n",
       "...          ...   ...    ...    ...           ...     ...\n",
       "18109         70    11     22     20     77.190002       0\n",
       "18110         70    11     22     22   1909.149948       1\n",
       "18111         70    11     22     23   1505.069992       1\n",
       "18112         70    11     22     25  14903.309761       1\n",
       "18113         70    11     22     26    417.229996       0\n",
       "\n",
       "[18114 rows x 6 columns]"
      ]
     },
     "execution_count": 16,
     "metadata": {},
     "output_type": "execute_result"
    }
   ],
   "source": [
    "data\n",
    "\n"
   ]
  },
  {
   "cell_type": "markdown",
   "metadata": {},
   "source": [
    "#  Apprentissage\n"
   ]
  },
  {
   "cell_type": "code",
   "execution_count": 26,
   "metadata": {},
   "outputs": [
    {
     "name": "stdout",
     "output_type": "stream",
     "text": [
      "loading data ...\n",
      "Train accuracy: 100.0%\n",
      "test accuracy: 82.07911683532659%\n"
     ]
    }
   ],
   "source": [
    "\n",
    "\n",
    "    #------------ load data : ------------\n",
    "    print('loading data ...')\n",
    "    x = data.iloc[:,0:-2]\n",
    "    y = data.iloc[:,-1]\n",
    "    #------------ split data : ------------\n",
    "    x_train, x_test, y_train, y_test = train_test_split(x,y,test_size=0.3)\n",
    "    #------------ SVM ------------\n",
    "    #clf = SVC(C=10000, kernel = 'rbf')\n",
    "    #clf.fit(x,y)\n",
    "    #print(f'Train accuracy: {clf.score(x,y)*100}%')\n",
    "    #joblib.dump(clf, fname)\n",
    "    #------------ DTC ------------\n",
    "    clf = DecisionTreeClassifier()\n",
    "    clf.fit(x_train,y_train)\n",
    "    print(f'Train accuracy: {clf.score(x_train,y_train)*100}%')\n",
    "    # ----- test score :------\n",
    "    \n",
    "    y_pred = clf.predict(x_test)\n",
    "    print(f'test accuracy: {accuracy_score(y_pred, y_test)*100}%')"
   ]
  },
  {
   "cell_type": "code",
   "execution_count": 30,
   "metadata": {},
   "outputs": [
    {
     "data": {
      "text/plain": [
       "array([1])"
      ]
     },
     "execution_count": 30,
     "metadata": {},
     "output_type": "execute_result"
    }
   ],
   "source": [
    "def write_output(cat,m,vreg,creg):\n",
    "    y_pred = clf.predict([[categories[cat], mois[m], v_reg[vreg], c_reg[creg]]])\n",
    "    return(y_pred)\n",
    "write_output('baby','Septembre','SP','RS').astype('int')\n"
   ]
  },
  {
   "cell_type": "code",
   "execution_count": 31,
   "metadata": {},
   "outputs": [],
   "source": [
    "#"
   ]
  },
  {
   "cell_type": "code",
   "execution_count": null,
   "metadata": {},
   "outputs": [],
   "source": []
  }
 ],
 "metadata": {
  "kernelspec": {
   "display_name": "Python 3",
   "language": "python",
   "name": "python3"
  },
  "language_info": {
   "codemirror_mode": {
    "name": "ipython",
    "version": 3
   },
   "file_extension": ".py",
   "mimetype": "text/x-python",
   "name": "python",
   "nbconvert_exporter": "python",
   "pygments_lexer": "ipython3",
   "version": "3.7.3"
  }
 },
 "nbformat": 4,
 "nbformat_minor": 2
}
